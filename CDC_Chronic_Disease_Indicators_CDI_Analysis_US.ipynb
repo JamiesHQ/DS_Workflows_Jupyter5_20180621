{
 "cells": [
  {
   "cell_type": "markdown",
   "metadata": {
    "slideshow": {
     "slide_type": "slide"
    }
   },
   "source": [
    "### U.S. CDC Chronic Disease Indicators (CDI) Analysis\n",
    "June 21, 2018"
   ]
  },
  {
   "cell_type": "markdown",
   "metadata": {
    "slideshow": {
     "slide_type": "slide"
    }
   },
   "source": [
    "This analysis is from the CDC U.S. Chronic Disease Indicators (CDI) Analysis https://catalog.data.gov/dataset/u-s-chronic-disease-indicators-cdi\n",
    "  \n",
    "Overview of data: https://www.cdc.gov/cdi/overview.html"
   ]
  },
  {
   "cell_type": "markdown",
   "metadata": {
    "slideshow": {
     "slide_type": "skip"
    }
   },
   "source": [
    "##### Download the demo files"
   ]
  },
  {
   "cell_type": "markdown",
   "metadata": {
    "slideshow": {
     "slide_type": "skip"
    }
   },
   "source": [
    "For this exercise, after downloading the file, remove both the `.`'s and the double underscore from the file name so it looks like:  \n",
    "`US_Chronic_Disease_Indicators_CDI.csv`.\n",
    "\n",
    "I also moved \"US\" to the end of the file name so my working file name is:  \n",
    "`Chronic_Disease_Indicators_CDI_US.csv`"
   ]
  },
  {
   "cell_type": "markdown",
   "metadata": {
    "slideshow": {
     "slide_type": "skip"
    }
   },
   "source": [
    "##### Interact with your file system through the notebook"
   ]
  },
  {
   "cell_type": "code",
   "execution_count": null,
   "metadata": {
    "slideshow": {
     "slide_type": "skip"
    }
   },
   "outputs": [],
   "source": [
    "import os"
   ]
  },
  {
   "cell_type": "code",
   "execution_count": null,
   "metadata": {
    "slideshow": {
     "slide_type": "skip"
    }
   },
   "outputs": [],
   "source": [
    "ls"
   ]
  },
  {
   "cell_type": "code",
   "execution_count": null,
   "metadata": {
    "slideshow": {
     "slide_type": "skip"
    }
   },
   "outputs": [],
   "source": [
    "!conda list"
   ]
  },
  {
   "cell_type": "markdown",
   "metadata": {
    "slideshow": {
     "slide_type": "slide"
    }
   },
   "source": [
    "##### Import your Libraries"
   ]
  },
  {
   "cell_type": "code",
   "execution_count": 1,
   "metadata": {
    "slideshow": {
     "slide_type": "slide"
    }
   },
   "outputs": [],
   "source": [
    "%matplotlib inline\n",
    "\n",
    "import pandas as pd\n",
    "import numpy as np\n",
    "import matplotlib.pyplot as plt"
   ]
  },
  {
   "cell_type": "markdown",
   "metadata": {
    "slideshow": {
     "slide_type": "slide"
    }
   },
   "source": [
    "##### Read in your CSV file using Pandas"
   ]
  },
  {
   "cell_type": "code",
   "execution_count": 2,
   "metadata": {},
   "outputs": [],
   "source": [
    "df_cdi = pd.read_csv('Chronic_Disease_Indicators_CDI_US.csv')"
   ]
  },
  {
   "cell_type": "code",
   "execution_count": null,
   "metadata": {},
   "outputs": [],
   "source": [
    "df_cdi = pd.read_csv('Chronic_Disease_Indicators_CDI_US.csv', low_memory=False)"
   ]
  },
  {
   "cell_type": "code",
   "execution_count": null,
   "metadata": {
    "slideshow": {
     "slide_type": "-"
    }
   },
   "outputs": [],
   "source": [
    "#data = 'filepath/Datasets'\n",
    "df_cdi = pd.read_csv('Chronic_Disease_Indicators_CDI_US.csv', encoding='latin1', dtype=object)\n",
    "\n",
    "%time"
   ]
  },
  {
   "cell_type": "markdown",
   "metadata": {
    "slideshow": {
     "slide_type": "slide"
    }
   },
   "source": [
    "## Manipulating Data in Pandas"
   ]
  },
  {
   "cell_type": "markdown",
   "metadata": {
    "slideshow": {
     "slide_type": "slide"
    }
   },
   "source": [
    "### Familiarize yourself with the dataset\n",
    "##### Find the shape of the dataframe"
   ]
  },
  {
   "cell_type": "code",
   "execution_count": 3,
   "metadata": {
    "scrolled": true,
    "slideshow": {
     "slide_type": "slide"
    }
   },
   "outputs": [],
   "source": [
    "df_cdi.shape"
   ]
  },
  {
   "cell_type": "markdown",
   "metadata": {
    "slideshow": {
     "slide_type": "slide"
    }
   },
   "source": [
    "This dataframe is 523,486 rows and 34 columns. That's not huge, but a little big for what working quickly today. "
   ]
  },
  {
   "cell_type": "markdown",
   "metadata": {
    "slideshow": {
     "slide_type": "slide"
    }
   },
   "source": [
    "##### Let's look at the first 5 rows of the dataframe"
   ]
  },
  {
   "cell_type": "code",
   "execution_count": 4,
   "metadata": {
    "scrolled": false,
    "slideshow": {
     "slide_type": "slide"
    }
   },
   "outputs": [],
   "source": [
    "df_cdi.head()"
   ]
  },
  {
   "cell_type": "markdown",
   "metadata": {
    "slideshow": {
     "slide_type": "slide"
    }
   },
   "source": [
    "#### And also the last 5 rows:"
   ]
  },
  {
   "cell_type": "code",
   "execution_count": null,
   "metadata": {
    "scrolled": true,
    "slideshow": {
     "slide_type": "slide"
    }
   },
   "outputs": [],
   "source": [
    "df_cdi.tail()"
   ]
  },
  {
   "cell_type": "markdown",
   "metadata": {
    "slideshow": {
     "slide_type": "slide"
    }
   },
   "source": [
    "#### Take a slice of the dataframe to print first two rows of the dataframe"
   ]
  },
  {
   "cell_type": "code",
   "execution_count": null,
   "metadata": {
    "scrolled": false,
    "slideshow": {
     "slide_type": "slide"
    }
   },
   "outputs": [],
   "source": [
    "df_cdi[0:2]"
   ]
  },
  {
   "cell_type": "markdown",
   "metadata": {
    "slideshow": {
     "slide_type": "slide"
    }
   },
   "source": [
    "#### Let's use a smaller dataset - Arthritis"
   ]
  },
  {
   "cell_type": "markdown",
   "metadata": {},
   "source": [
    "Select a subset of rows from the dataframe where the `Topic` column equals 'Arthritis'"
   ]
  },
  {
   "cell_type": "code",
   "execution_count": null,
   "metadata": {},
   "outputs": [],
   "source": [
    "df_arthritis = df_cdi.loc[df_cdi.Topic == 'Arthritis']"
   ]
  },
  {
   "cell_type": "markdown",
   "metadata": {},
   "source": [
    "#### Inspect the new dataframe"
   ]
  },
  {
   "cell_type": "code",
   "execution_count": null,
   "metadata": {},
   "outputs": [],
   "source": [
    "df_arthritis.shape"
   ]
  },
  {
   "cell_type": "markdown",
   "metadata": {},
   "source": [
    "#### Write the new DataFrame to a file for later use"
   ]
  },
  {
   "cell_type": "code",
   "execution_count": null,
   "metadata": {},
   "outputs": [],
   "source": [
    "df_arthritis.to_csv('Chronic_Disease_Indicators_Arthritis_US.csv')"
   ]
  },
  {
   "cell_type": "markdown",
   "metadata": {},
   "source": [
    "  "
   ]
  },
  {
   "cell_type": "markdown",
   "metadata": {},
   "source": [
    "#### Load the newly generated file from disk"
   ]
  },
  {
   "cell_type": "code",
   "execution_count": null,
   "metadata": {
    "slideshow": {
     "slide_type": "slide"
    }
   },
   "outputs": [],
   "source": [
    "df_arth = pd.read_csv('Chronic_Disease_Indicators_Arthritis_US.csv')"
   ]
  },
  {
   "cell_type": "markdown",
   "metadata": {},
   "source": [
    "   "
   ]
  },
  {
   "cell_type": "markdown",
   "metadata": {},
   "source": [
    "#### Make a copy of your working dataset to keep your original data intact"
   ]
  },
  {
   "cell_type": "markdown",
   "metadata": {},
   "source": [
    "If we import our dataframe as `df` and do not make a copy, any changes we make to `df` will save to (aka overwrite) our original 'Arthritis' subset. If any mistakes are made during this process and we need a fresh start with the original data, without copying, we'll have to start at the very beginning with the full CDC dataset, again subset for 'Arthritis', and continue our analysis from there. Using copy, we're one step ahead with a pristine Arthritis dataset.\n",
    "\n",
    "If, instead of using `.copy()`, we set  \n",
    "  \n",
    "`df = df_arth`\n",
    "\n",
    "`df` will merely reference `df_arth`. No copy is created here and our original Arthritis subset is vulnerable to changes."
   ]
  },
  {
   "cell_type": "code",
   "execution_count": null,
   "metadata": {},
   "outputs": [],
   "source": [
    "df = df_arth.copy()"
   ]
  },
  {
   "cell_type": "markdown",
   "metadata": {
    "slideshow": {
     "slide_type": "slide"
    }
   },
   "source": [
    "##### Count the number of rows only"
   ]
  },
  {
   "cell_type": "code",
   "execution_count": null,
   "metadata": {
    "scrolled": true,
    "slideshow": {
     "slide_type": "slide"
    }
   },
   "outputs": [],
   "source": [
    "len(df)"
   ]
  },
  {
   "cell_type": "markdown",
   "metadata": {
    "slideshow": {
     "slide_type": "slide"
    }
   },
   "source": [
    "##### Count the number of columns only"
   ]
  },
  {
   "cell_type": "code",
   "execution_count": null,
   "metadata": {
    "slideshow": {
     "slide_type": "slide"
    }
   },
   "outputs": [],
   "source": [
    "len(df.columns)"
   ]
  },
  {
   "cell_type": "markdown",
   "metadata": {
    "slideshow": {
     "slide_type": "slide"
    }
   },
   "source": [
    "##### List the columns in your dataset"
   ]
  },
  {
   "cell_type": "code",
   "execution_count": null,
   "metadata": {
    "scrolled": true,
    "slideshow": {
     "slide_type": "slide"
    }
   },
   "outputs": [],
   "source": [
    "df.columns"
   ]
  },
  {
   "cell_type": "markdown",
   "metadata": {
    "slideshow": {
     "slide_type": "slide"
    }
   },
   "source": [
    "##### Find the data types of your columns"
   ]
  },
  {
   "cell_type": "code",
   "execution_count": null,
   "metadata": {
    "scrolled": true,
    "slideshow": {
     "slide_type": "slide"
    }
   },
   "outputs": [],
   "source": [
    "df.info()"
   ]
  },
  {
   "cell_type": "markdown",
   "metadata": {
    "slideshow": {
     "slide_type": "slide"
    }
   },
   "source": [
    "Now that we have a general idea of the contents and shape of the data, let's move on to preparing the data for analysis."
   ]
  },
  {
   "cell_type": "markdown",
   "metadata": {
    "slideshow": {
     "slide_type": "slide"
    }
   },
   "source": [
    "## Cleaning and Preparing Your Data"
   ]
  },
  {
   "cell_type": "markdown",
   "metadata": {
    "slideshow": {
     "slide_type": "slide"
    }
   },
   "source": [
    "### Double check to make sure you're working off a copy of your original dataset so you don't overwrite your original data"
   ]
  },
  {
   "cell_type": "markdown",
   "metadata": {
    "slideshow": {
     "slide_type": "slide"
    }
   },
   "source": [
    "### Handling Missing Values"
   ]
  },
  {
   "cell_type": "markdown",
   "metadata": {
    "slideshow": {
     "slide_type": "slide"
    }
   },
   "source": [
    "Using the `.count()` function will display the number of values in each column and highlight any columns with missing values. Often these missing values show up in your dataframe as \"NaN\" - not a number. "
   ]
  },
  {
   "cell_type": "code",
   "execution_count": null,
   "metadata": {},
   "outputs": [],
   "source": [
    "df.shape"
   ]
  },
  {
   "cell_type": "code",
   "execution_count": null,
   "metadata": {
    "scrolled": true
   },
   "outputs": [],
   "source": [
    "df.count()"
   ]
  },
  {
   "cell_type": "markdown",
   "metadata": {},
   "source": [
    "As you can see above, some of the columns are completely empty or have empty cells. Other columns are duplicative. We'll use a subset of eleven columns for today's work:\n",
    "* **YearStart** - Year the survey was started\n",
    "* **LocationAbbr** - Abbreviation for state/territory/region name\n",
    "* **LocationDesc** - Full state/territory/region name\n",
    "* **Question**\n",
    "* **DataValueUnit** - All fields use percent (%)\n",
    "* **DataValueType** - Values: Age-adjusted prevalence, Crude prevalence\n",
    "* **DataValue** - Integer value\n",
    "* **DataValueFootnote** - \n",
    "* **StratificationCategory1** - Values: Overall, Gender, Race/Ethnicity\n",
    "* **Stratification1** - Values: Overall; Female; Male; Black, non-Hispanic; Hispanic; Multiracial, non-Hispanic; White, non-Hispanic; Other, non-Hispanic; \n",
    "* **GeoLocation** - Latitude, Longitude"
   ]
  },
  {
   "cell_type": "markdown",
   "metadata": {},
   "source": [
    "Create a dataframe from the original that only contains the columns we want to work with **(copy to Slack and Chat)**. "
   ]
  },
  {
   "cell_type": "code",
   "execution_count": null,
   "metadata": {},
   "outputs": [],
   "source": [
    "df_sub = df[['YearStart', 'LocationAbbr', 'LocationDesc', 'Question', 'DataValueUnit', 'DataValueType', 'DataValue', 'DatavalueFootnote', 'StratificationCategory1', 'Stratification1', 'GeoLocation']]"
   ]
  },
  {
   "cell_type": "code",
   "execution_count": null,
   "metadata": {
    "scrolled": true
   },
   "outputs": [],
   "source": [
    "df_sub.head()"
   ]
  },
  {
   "cell_type": "markdown",
   "metadata": {},
   "source": [
    "We still have missing values. We could replace the NaNs with empty strings for easier text processing, but let's keep them for now. "
   ]
  },
  {
   "cell_type": "code",
   "execution_count": null,
   "metadata": {},
   "outputs": [],
   "source": [
    "#df_sub = df_sub.fillna('')"
   ]
  },
  {
   "cell_type": "code",
   "execution_count": null,
   "metadata": {},
   "outputs": [],
   "source": [
    "#df_sub.head()"
   ]
  },
  {
   "cell_type": "markdown",
   "metadata": {},
   "source": [
    "Finally, let's take a look at the data types in our dataset"
   ]
  },
  {
   "cell_type": "code",
   "execution_count": null,
   "metadata": {},
   "outputs": [],
   "source": [
    "df_sub.dtypes"
   ]
  },
  {
   "cell_type": "markdown",
   "metadata": {},
   "source": [
    "### Exploratory Data Analysis"
   ]
  },
  {
   "cell_type": "code",
   "execution_count": null,
   "metadata": {},
   "outputs": [],
   "source": [
    "df_sub.describe()"
   ]
  },
  {
   "cell_type": "code",
   "execution_count": null,
   "metadata": {
    "scrolled": true
   },
   "outputs": [],
   "source": [
    "df_sub[['LocationDesc', 'StratificationCategory1']].describe()"
   ]
  },
  {
   "cell_type": "markdown",
   "metadata": {},
   "source": [
    "#### What questions do we want to answer? What piques our curiosity?\n",
    "1. What is the overall incidence of arthritis in the U.S. per year?\n",
    "2. How does this vary by race/ethnicity and gender?\n",
    "3. Which states had the highest and lowest incidence of arthritis in 2015?\n"
   ]
  },
  {
   "cell_type": "markdown",
   "metadata": {},
   "source": [
    "##### 1. What is the overall incidence of arthritis in the U.S. per year?"
   ]
  },
  {
   "cell_type": "markdown",
   "metadata": {},
   "source": [
    "We can use `pd.unique` to list the unique values in the question column."
   ]
  },
  {
   "cell_type": "code",
   "execution_count": null,
   "metadata": {},
   "outputs": [],
   "source": [
    "pd.unique(df_sub['Question'])"
   ]
  },
  {
   "cell_type": "markdown",
   "metadata": {},
   "source": [
    "We can also use `.value_counts()` to count how many times each question appears in our data set. `.value_counts()` is a great tool for exploring categorical data."
   ]
  },
  {
   "cell_type": "code",
   "execution_count": null,
   "metadata": {
    "scrolled": true
   },
   "outputs": [],
   "source": [
    "df_sub['Question'].value_counts()"
   ]
  },
  {
   "cell_type": "markdown",
   "metadata": {},
   "source": [
    "We'll create a subset of our data to answer this question. "
   ]
  },
  {
   "cell_type": "code",
   "execution_count": null,
   "metadata": {},
   "outputs": [],
   "source": [
    "annual_incidence = df_sub[(df_sub.Question == 'Arthritis among adults aged >= 18 years') & \n",
    "                          (df_sub.LocationAbbr == 'US') & (df_sub.StratificationCategory1 == \"Overall\") & \n",
    "                          (df_sub.DataValueType == 'Crude Prevalence')]"
   ]
  },
  {
   "cell_type": "code",
   "execution_count": null,
   "metadata": {},
   "outputs": [],
   "source": [
    "annual_incidence"
   ]
  },
  {
   "cell_type": "markdown",
   "metadata": {},
   "source": [
    "##### 2. How does this vary by race/ethnicity and gender?"
   ]
  },
  {
   "cell_type": "code",
   "execution_count": null,
   "metadata": {},
   "outputs": [],
   "source": [
    "pd.unique(df_sub['StratificationCategory1'])"
   ]
  },
  {
   "cell_type": "code",
   "execution_count": null,
   "metadata": {},
   "outputs": [],
   "source": [
    "incidence_race = df_sub[(df_sub.Question == 'Arthritis among adults aged >= 18 years') & \n",
    "                          (df_sub.LocationAbbr == 'US') & (df_sub.StratificationCategory1 == \"Race/Ethnicity\")  & \n",
    "                          (df_sub.DataValueType == 'Age-adjusted Prevalence')]"
   ]
  },
  {
   "cell_type": "code",
   "execution_count": null,
   "metadata": {
    "scrolled": true
   },
   "outputs": [],
   "source": [
    "incidence_race"
   ]
  },
  {
   "cell_type": "markdown",
   "metadata": {},
   "source": [
    "    \n",
    "    \n",
    "    "
   ]
  },
  {
   "cell_type": "markdown",
   "metadata": {},
   "source": [
    "**Why is our output empty?**  \n",
    "There is no US-wide Race/Ethnicity data for the category Arthritis among adults aged >= 18 years, only for Arthritis among adults aged >= 18 who are obese and only for 2011."
   ]
  },
  {
   "cell_type": "code",
   "execution_count": null,
   "metadata": {},
   "outputs": [],
   "source": [
    "incidence_race2 = df_sub[(df_sub.LocationAbbr == 'US') & (df_sub.StratificationCategory1 == \"Race/Ethnicity\") &\n",
    "                         (df_sub.DataValueType == 'Age-adjusted Prevalence')]"
   ]
  },
  {
   "cell_type": "code",
   "execution_count": null,
   "metadata": {
    "scrolled": true
   },
   "outputs": [],
   "source": [
    "incidence_race2"
   ]
  },
  {
   "cell_type": "markdown",
   "metadata": {},
   "source": [
    "  \n",
    "  "
   ]
  },
  {
   "cell_type": "markdown",
   "metadata": {},
   "source": [
    "##### Let's figure out the answer with data from all the states"
   ]
  },
  {
   "cell_type": "markdown",
   "metadata": {},
   "source": [
    "We should have 52 readings for each Stratification1 for each year. Let's use `.count()` to check.  "
   ]
  },
  {
   "cell_type": "code",
   "execution_count": null,
   "metadata": {},
   "outputs": [],
   "source": [
    "incidence_race3 = df_sub[(df_sub.Question == 'Arthritis among adults aged >= 18 years') & (df_sub.StratificationCategory1 == \"Race/Ethnicity\") &\n",
    "                         (df_sub.DataValueType == 'Age-adjusted Prevalence')].groupby(['YearStart', 'Stratification1'])['DataValue'].count()"
   ]
  },
  {
   "cell_type": "code",
   "execution_count": null,
   "metadata": {},
   "outputs": [],
   "source": [
    "incidence_race3"
   ]
  },
  {
   "cell_type": "markdown",
   "metadata": {},
   "source": [
    "Let's use the same code from above to get the mean age-adjusted prevalence for each race/ethnicity per year."
   ]
  },
  {
   "cell_type": "code",
   "execution_count": null,
   "metadata": {},
   "outputs": [],
   "source": [
    "incidence_race4 = df_sub[(df_sub.Question == 'Arthritis among adults aged >= 18 years') & (df_sub.StratificationCategory1 == \"Race/Ethnicity\") &\n",
    "                         (df_sub.DataValueType == 'Age-adjusted Prevalence')].groupby(['YearStart', 'Stratification1'])['DataValue'].mean()"
   ]
  },
  {
   "cell_type": "markdown",
   "metadata": {},
   "source": [
    "**Important Note:** For demo purposes only. In a real-life analysis, you should not take the mean or average of percentages when the total count of individuals across groups is unknown or not the same.  Weighted averages should be used when the totals are known.  "
   ]
  },
  {
   "cell_type": "code",
   "execution_count": null,
   "metadata": {},
   "outputs": [],
   "source": [
    "incidence_race4"
   ]
  },
  {
   "cell_type": "markdown",
   "metadata": {},
   "source": [
    "##### 3. Which states had the highest and lowest incidence of arthritis in 2015 for adults >= 18 years?"
   ]
  },
  {
   "cell_type": "code",
   "execution_count": null,
   "metadata": {},
   "outputs": [],
   "source": [
    "arthritis_2015 = df_sub[(df_sub.Question == 'Arthritis among adults aged >= 18 years') & (df_sub.YearStart == 2015.)]\n",
    "len(arthritis_2015)"
   ]
  },
  {
   "cell_type": "code",
   "execution_count": null,
   "metadata": {},
   "outputs": [],
   "source": [
    "mean_incidence_by_state = arthritis_2015.groupby(['LocationAbbr'])['DataValue'].mean()\n",
    "mean_incidence_by_state"
   ]
  },
  {
   "cell_type": "code",
   "execution_count": null,
   "metadata": {},
   "outputs": [],
   "source": [
    "sorted_values = mean_incidence_by_state.dropna().sort_values()\n",
    "sorted_values"
   ]
  },
  {
   "cell_type": "code",
   "execution_count": null,
   "metadata": {},
   "outputs": [],
   "source": [
    "min_val = sorted_values.iloc[[0]] # First row in sorted list\n",
    "min_val"
   ]
  },
  {
   "cell_type": "code",
   "execution_count": null,
   "metadata": {},
   "outputs": [],
   "source": [
    "max_val = sorted_values.iloc[[-1]] # Last row in sorted list\n",
    "max_val"
   ]
  },
  {
   "cell_type": "code",
   "execution_count": null,
   "metadata": {},
   "outputs": [],
   "source": [
    "min_and_max = sorted_values.iloc[[0, -1]] # First and last row in sorted list\n",
    "min_and_max"
   ]
  },
  {
   "cell_type": "markdown",
   "metadata": {},
   "source": [
    "  "
   ]
  },
  {
   "cell_type": "markdown",
   "metadata": {},
   "source": [
    "## Making Charts"
   ]
  },
  {
   "cell_type": "markdown",
   "metadata": {},
   "source": [
    "### Matplotlib"
   ]
  },
  {
   "cell_type": "markdown",
   "metadata": {},
   "source": [
    "[Matplotlib](https://matplotlib.org/) is a 2D plotting library that serves as the foundation for much of the plotting you will do in Jupyter. It generates decent charts out of the gate and is very useful when conducting an exploratory data analysis.\n",
    "\n",
    "The [Matplotlib Gallery](https://matplotlib.org/gallery/index.html) provides source code (either as .py file or in a Jupyter Notebook) to create the featured images."
   ]
  },
  {
   "cell_type": "markdown",
   "metadata": {},
   "source": [
    "#### matplotlib and pandas in action"
   ]
  },
  {
   "cell_type": "markdown",
   "metadata": {},
   "source": [
    "Let's subset the `annual_incidence` dataframe that we created above to generate a two-column dataset"
   ]
  },
  {
   "cell_type": "code",
   "execution_count": null,
   "metadata": {},
   "outputs": [],
   "source": [
    "ai = annual_incidence[['YearStart', 'DataValue']].sort_values(by='YearStart')"
   ]
  },
  {
   "cell_type": "code",
   "execution_count": null,
   "metadata": {},
   "outputs": [],
   "source": [
    "ai"
   ]
  },
  {
   "cell_type": "code",
   "execution_count": null,
   "metadata": {
    "slideshow": {
     "slide_type": "slide"
    }
   },
   "outputs": [],
   "source": [
    "ai.set_index('YearStart')['DataValue'].plot.bar()"
   ]
  },
  {
   "cell_type": "markdown",
   "metadata": {},
   "source": [
    "##### How does the overall incidence vary by gender?"
   ]
  },
  {
   "cell_type": "code",
   "execution_count": null,
   "metadata": {},
   "outputs": [],
   "source": [
    "gender_incidence = df_sub[(df_sub.Question == 'Arthritis among adults aged >= 18 years') &\n",
    "                         (df_sub.LocationAbbr == 'US') & \n",
    "                         (df_sub.DataValueType == 'Crude Prevalence')].groupby(['YearStart', 'Stratification1'])['DataValue'].mean()"
   ]
  },
  {
   "cell_type": "code",
   "execution_count": null,
   "metadata": {
    "scrolled": true
   },
   "outputs": [],
   "source": [
    "gender_incidence"
   ]
  },
  {
   "cell_type": "code",
   "execution_count": null,
   "metadata": {},
   "outputs": [],
   "source": [
    "#gif.head()"
   ]
  },
  {
   "cell_type": "code",
   "execution_count": null,
   "metadata": {},
   "outputs": [],
   "source": [
    "gif = gender_incidence.unstack()\n",
    "gif.plot.bar()"
   ]
  },
  {
   "cell_type": "markdown",
   "metadata": {},
   "source": [
    "##### Homework: Which states had the highest and lowest incidence of arthritis in 2016?"
   ]
  },
  {
   "cell_type": "markdown",
   "metadata": {},
   "source": [
    "  "
   ]
  },
  {
   "cell_type": "markdown",
   "metadata": {},
   "source": [
    "  "
   ]
  },
  {
   "cell_type": "markdown",
   "metadata": {
    "collapsed": true,
    "scrolled": true
   },
   "source": [
    "### Seaborn\n",
    "[Seaborn](https://seaborn.pydata.org/) is a Python visualization library based on matplotlib that provides nicer graphs. The import convention is:"
   ]
  },
  {
   "cell_type": "code",
   "execution_count": null,
   "metadata": {},
   "outputs": [],
   "source": [
    "import seaborn as sns"
   ]
  },
  {
   "cell_type": "code",
   "execution_count": null,
   "metadata": {},
   "outputs": [],
   "source": [
    "sns.set()"
   ]
  },
  {
   "cell_type": "markdown",
   "metadata": {},
   "source": [
    "Now that you've imported Seaborn, if you re-run your Matplotlib plots above, they will look nice!\n",
    "\n",
    "Use Seaborn's [themes](https://seaborn.pydata.org/tutorial/aesthetics.html#aesthetics-tutorial) and [color palettes](https://seaborn.pydata.org/tutorial/color_palettes.html#palette-tutorial) to further decorate your plot."
   ]
  },
  {
   "cell_type": "code",
   "execution_count": null,
   "metadata": {},
   "outputs": [],
   "source": [
    "sns.set_palette(sns.color_palette(\"Set2\", 10))"
   ]
  },
  {
   "cell_type": "markdown",
   "metadata": {},
   "source": [
    "[Example Gallery](https://seaborn.pydata.org/examples/index.html#example-gallery)"
   ]
  },
  {
   "cell_type": "markdown",
   "metadata": {},
   "source": [
    "  "
   ]
  },
  {
   "cell_type": "markdown",
   "metadata": {},
   "source": [
    "### Bokeh"
   ]
  },
  {
   "cell_type": "markdown",
   "metadata": {},
   "source": [
    "[Bokeh](https://bokeh.pydata.org/en/latest/) is a platform for interactive visualization and data applications in modern web browsers. Still under development with occasional breaking changes. The Bokeh Organization includes other projects including [Datashader](https://bokeh.github.io/datashader-docs/) and [HoloViews](http://holoviews.org/).\n",
    "\n",
    "You can follow Bokeh development on the [Bokeh Blog](https://bokeh.github.io/blog/2017/11/28/release-0-12-11/)."
   ]
  },
  {
   "cell_type": "markdown",
   "metadata": {},
   "source": [
    "  "
   ]
  },
  {
   "cell_type": "markdown",
   "metadata": {},
   "source": [
    "### Altair"
   ]
  },
  {
   "cell_type": "markdown",
   "metadata": {},
   "source": [
    "[Altair](https://altair-viz.github.io/) is a declarative statistical visualization library for Python developed by Jake VanDerPlas and Brian Granger that is built on top of the powerful [Vega-Lite](https://vega.github.io/vega-lite/) visualization grammar."
   ]
  },
  {
   "cell_type": "markdown",
   "metadata": {},
   "source": [
    "  "
   ]
  },
  {
   "cell_type": "markdown",
   "metadata": {},
   "source": [
    "### Plotly"
   ]
  },
  {
   "cell_type": "markdown",
   "metadata": {},
   "source": [
    "[Plotly's](https://plot.ly/) Python graphing library makes really nice interactive, publication-quality graphs online. "
   ]
  },
  {
   "cell_type": "markdown",
   "metadata": {},
   "source": [
    "  "
   ]
  }
 ],
 "metadata": {
  "kernelspec": {
   "display_name": "Python 3",
   "language": "python",
   "name": "python3"
  },
  "language_info": {
   "codemirror_mode": {
    "name": "ipython",
    "version": 3
   },
   "file_extension": ".py",
   "mimetype": "text/x-python",
   "name": "python",
   "nbconvert_exporter": "python",
   "pygments_lexer": "ipython3",
   "version": "3.4.2"
  }
 },
 "nbformat": 4,
 "nbformat_minor": 2
}
